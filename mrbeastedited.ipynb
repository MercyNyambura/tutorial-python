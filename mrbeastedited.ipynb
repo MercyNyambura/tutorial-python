{
 "cells": [
  {
   "cell_type": "code",
   "execution_count": 1,
   "id": "31832cf2",
   "metadata": {
    "execution": {
     "iopub.execute_input": "2023-07-23T22:34:44.523144Z",
     "iopub.status.busy": "2023-07-23T22:34:44.522626Z",
     "iopub.status.idle": "2023-07-23T22:34:44.541731Z",
     "shell.execute_reply": "2023-07-23T22:34:44.540315Z"
    },
    "papermill": {
     "duration": 0.034504,
     "end_time": "2023-07-23T22:34:44.544739",
     "exception": false,
     "start_time": "2023-07-23T22:34:44.510235",
     "status": "completed"
    },
    "tags": []
   },
   "outputs": [],
   "source": [
    "import numpy as np\n",
    "import pandas as pd\n",
    "import matplotlib.pylab as plt"
   ]
  },
  {
   "cell_type": "code",
   "execution_count": 2,
   "id": "5094e58f",
   "metadata": {
    "execution": {
     "iopub.execute_input": "2023-07-23T22:34:44.567732Z",
     "iopub.status.busy": "2023-07-23T22:34:44.566613Z",
     "iopub.status.idle": "2023-07-23T22:34:44.608897Z",
     "shell.execute_reply": "2023-07-23T22:34:44.607119Z"
    },
    "papermill": {
     "duration": 0.057288,
     "end_time": "2023-07-23T22:34:44.612059",
     "exception": false,
     "start_time": "2023-07-23T22:34:44.554771",
     "status": "completed"
    },
    "tags": []
   },
   "outputs": [],
   "source": [
    "df = pd.read_csv('../input/mr-beast-youtube-video-statistics/MrBeast_youtube_stats.csv')"
   ]
  },
  {
   "cell_type": "markdown",
   "id": "964fbe1b",
   "metadata": {
    "papermill": {
     "duration": 0.009345,
     "end_time": "2023-07-23T22:34:44.631142",
     "exception": false,
     "start_time": "2023-07-23T22:34:44.621797",
     "status": "completed"
    },
    "tags": []
   },
   "source": [
    "Inspect the Data"
   ]
  },
  {
   "cell_type": "code",
   "execution_count": 3,
   "id": "de521fcd",
   "metadata": {
    "execution": {
     "iopub.execute_input": "2023-07-23T22:34:44.653895Z",
     "iopub.status.busy": "2023-07-23T22:34:44.653298Z",
     "iopub.status.idle": "2023-07-23T22:34:44.706292Z",
     "shell.execute_reply": "2023-07-23T22:34:44.704476Z"
    },
    "papermill": {
     "duration": 0.069117,
     "end_time": "2023-07-23T22:34:44.710657",
     "exception": false,
     "start_time": "2023-07-23T22:34:44.641540",
     "status": "completed"
    },
    "tags": []
   },
   "outputs": [
    {
     "data": {
      "text/html": [
       "<div>\n",
       "<style scoped>\n",
       "    .dataframe tbody tr th:only-of-type {\n",
       "        vertical-align: middle;\n",
       "    }\n",
       "\n",
       "    .dataframe tbody tr th {\n",
       "        vertical-align: top;\n",
       "    }\n",
       "\n",
       "    .dataframe thead th {\n",
       "        text-align: right;\n",
       "    }\n",
       "</style>\n",
       "<table border=\"1\" class=\"dataframe\">\n",
       "  <thead>\n",
       "    <tr style=\"text-align: right;\">\n",
       "      <th></th>\n",
       "      <th>id</th>\n",
       "      <th>title</th>\n",
       "      <th>description</th>\n",
       "      <th>publishTime</th>\n",
       "      <th>kind_stats</th>\n",
       "      <th>duration_seconds</th>\n",
       "      <th>viewCount</th>\n",
       "      <th>likeCount</th>\n",
       "      <th>commentCount</th>\n",
       "      <th>thumbnails.default.url</th>\n",
       "      <th>...</th>\n",
       "      <th>thumbnails.high.width</th>\n",
       "      <th>thumbnails.high.height</th>\n",
       "      <th>contentDetails.duration</th>\n",
       "      <th>contentDetails.dimension</th>\n",
       "      <th>topicDetails.topicCategories</th>\n",
       "      <th>snippet.defaultLanguage</th>\n",
       "      <th>localizations.en.title</th>\n",
       "      <th>localizations.en.description</th>\n",
       "      <th>snippet.tags</th>\n",
       "      <th>contentDetails.contentRating.ytRating</th>\n",
       "    </tr>\n",
       "  </thead>\n",
       "  <tbody>\n",
       "    <tr>\n",
       "      <th>0</th>\n",
       "      <td>TQHEJj68Jew</td>\n",
       "      <td>I Got Hunted By A Real Bounty Hunter</td>\n",
       "      <td>Sign up for Current w/ my Creator Code \"BEAST\"...</td>\n",
       "      <td>2021-04-24 20:00:00+00:00</td>\n",
       "      <td>youtube#video</td>\n",
       "      <td>861</td>\n",
       "      <td>84717282.0</td>\n",
       "      <td>2876493.0</td>\n",
       "      <td>128922.0</td>\n",
       "      <td>https://i.ytimg.com/vi/TQHEJj68Jew/default.jpg</td>\n",
       "      <td>...</td>\n",
       "      <td>480.0</td>\n",
       "      <td>360.0</td>\n",
       "      <td>PT14M21S</td>\n",
       "      <td>2d</td>\n",
       "      <td>['https://en.wikipedia.org/wiki/Lifestyle_(soc...</td>\n",
       "      <td>NaN</td>\n",
       "      <td>NaN</td>\n",
       "      <td>NaN</td>\n",
       "      <td>NaN</td>\n",
       "      <td>NaN</td>\n",
       "    </tr>\n",
       "    <tr>\n",
       "      <th>1</th>\n",
       "      <td>00NgUctWoLQ</td>\n",
       "      <td>Extreme $1,000,000 Hide And Seek</td>\n",
       "      <td>I didn't expect that to happen at the end I wa...</td>\n",
       "      <td>2021-12-18 21:00:00+00:00</td>\n",
       "      <td>youtube#video</td>\n",
       "      <td>729</td>\n",
       "      <td>32090178.0</td>\n",
       "      <td>2125183.0</td>\n",
       "      <td>73593.0</td>\n",
       "      <td>https://i.ytimg.com/vi/00NgUctWoLQ/default.jpg</td>\n",
       "      <td>...</td>\n",
       "      <td>480.0</td>\n",
       "      <td>360.0</td>\n",
       "      <td>PT12M9S</td>\n",
       "      <td>2d</td>\n",
       "      <td>['https://en.wikipedia.org/wiki/Lifestyle_(soc...</td>\n",
       "      <td>en</td>\n",
       "      <td>Extreme $1,000,000 Hide And Seek</td>\n",
       "      <td>I didn't expect that to happen at the end I wa...</td>\n",
       "      <td>NaN</td>\n",
       "      <td>NaN</td>\n",
       "    </tr>\n",
       "    <tr>\n",
       "      <th>2</th>\n",
       "      <td>NaN</td>\n",
       "      <td>MrBeast</td>\n",
       "      <td>Accomplishments - Raised $20000000 To Plant 20...</td>\n",
       "      <td>2012-02-20 00:43:50+00:00</td>\n",
       "      <td>NaN</td>\n",
       "      <td>0</td>\n",
       "      <td>NaN</td>\n",
       "      <td>NaN</td>\n",
       "      <td>NaN</td>\n",
       "      <td>https://yt3.ggpht.com/ytc/AKedOLTctGKJ32CdDLiS...</td>\n",
       "      <td>...</td>\n",
       "      <td>NaN</td>\n",
       "      <td>NaN</td>\n",
       "      <td>NaN</td>\n",
       "      <td>NaN</td>\n",
       "      <td>NaN</td>\n",
       "      <td>NaN</td>\n",
       "      <td>NaN</td>\n",
       "      <td>NaN</td>\n",
       "      <td>NaN</td>\n",
       "      <td>NaN</td>\n",
       "    </tr>\n",
       "    <tr>\n",
       "      <th>3</th>\n",
       "      <td>ayXxwJJId_c</td>\n",
       "      <td>I Bought The World&amp;#39;s Largest Mystery Box! ...</td>\n",
       "      <td>I cant believe I spent over $500000 on mystery...</td>\n",
       "      <td>2021-04-03 20:00:01+00:00</td>\n",
       "      <td>youtube#video</td>\n",
       "      <td>709</td>\n",
       "      <td>101745632.0</td>\n",
       "      <td>3110824.0</td>\n",
       "      <td>162796.0</td>\n",
       "      <td>https://i.ytimg.com/vi/ayXxwJJId_c/default.jpg</td>\n",
       "      <td>...</td>\n",
       "      <td>480.0</td>\n",
       "      <td>360.0</td>\n",
       "      <td>PT11M49S</td>\n",
       "      <td>2d</td>\n",
       "      <td>['https://en.wikipedia.org/wiki/Lifestyle_(soc...</td>\n",
       "      <td>NaN</td>\n",
       "      <td>NaN</td>\n",
       "      <td>NaN</td>\n",
       "      <td>NaN</td>\n",
       "      <td>NaN</td>\n",
       "    </tr>\n",
       "    <tr>\n",
       "      <th>4</th>\n",
       "      <td>cExLQ1o2pDw</td>\n",
       "      <td>First To Rob Bank Wins $100,000</td>\n",
       "      <td>I didnt think he would actually rob the bank.....</td>\n",
       "      <td>2021-09-26 20:00:06+00:00</td>\n",
       "      <td>youtube#video</td>\n",
       "      <td>482</td>\n",
       "      <td>50008942.0</td>\n",
       "      <td>2359606.0</td>\n",
       "      <td>120621.0</td>\n",
       "      <td>https://i.ytimg.com/vi/cExLQ1o2pDw/default.jpg</td>\n",
       "      <td>...</td>\n",
       "      <td>480.0</td>\n",
       "      <td>360.0</td>\n",
       "      <td>PT8M2S</td>\n",
       "      <td>2d</td>\n",
       "      <td>['https://en.wikipedia.org/wiki/Lifestyle_(soc...</td>\n",
       "      <td>NaN</td>\n",
       "      <td>NaN</td>\n",
       "      <td>NaN</td>\n",
       "      <td>NaN</td>\n",
       "      <td>NaN</td>\n",
       "    </tr>\n",
       "  </tbody>\n",
       "</table>\n",
       "<p>5 rows × 26 columns</p>\n",
       "</div>"
      ],
      "text/plain": [
       "            id                                              title  \\\n",
       "0  TQHEJj68Jew               I Got Hunted By A Real Bounty Hunter   \n",
       "1  00NgUctWoLQ                   Extreme $1,000,000 Hide And Seek   \n",
       "2          NaN                                            MrBeast   \n",
       "3  ayXxwJJId_c  I Bought The World&#39;s Largest Mystery Box! ...   \n",
       "4  cExLQ1o2pDw                    First To Rob Bank Wins $100,000   \n",
       "\n",
       "                                         description  \\\n",
       "0  Sign up for Current w/ my Creator Code \"BEAST\"...   \n",
       "1  I didn't expect that to happen at the end I wa...   \n",
       "2  Accomplishments - Raised $20000000 To Plant 20...   \n",
       "3  I cant believe I spent over $500000 on mystery...   \n",
       "4  I didnt think he would actually rob the bank.....   \n",
       "\n",
       "                 publishTime     kind_stats  duration_seconds    viewCount  \\\n",
       "0  2021-04-24 20:00:00+00:00  youtube#video               861   84717282.0   \n",
       "1  2021-12-18 21:00:00+00:00  youtube#video               729   32090178.0   \n",
       "2  2012-02-20 00:43:50+00:00            NaN                 0          NaN   \n",
       "3  2021-04-03 20:00:01+00:00  youtube#video               709  101745632.0   \n",
       "4  2021-09-26 20:00:06+00:00  youtube#video               482   50008942.0   \n",
       "\n",
       "   likeCount  commentCount                             thumbnails.default.url  \\\n",
       "0  2876493.0      128922.0     https://i.ytimg.com/vi/TQHEJj68Jew/default.jpg   \n",
       "1  2125183.0       73593.0     https://i.ytimg.com/vi/00NgUctWoLQ/default.jpg   \n",
       "2        NaN           NaN  https://yt3.ggpht.com/ytc/AKedOLTctGKJ32CdDLiS...   \n",
       "3  3110824.0      162796.0     https://i.ytimg.com/vi/ayXxwJJId_c/default.jpg   \n",
       "4  2359606.0      120621.0     https://i.ytimg.com/vi/cExLQ1o2pDw/default.jpg   \n",
       "\n",
       "   ...  thumbnails.high.width  thumbnails.high.height contentDetails.duration  \\\n",
       "0  ...                  480.0                   360.0                PT14M21S   \n",
       "1  ...                  480.0                   360.0                 PT12M9S   \n",
       "2  ...                    NaN                     NaN                     NaN   \n",
       "3  ...                  480.0                   360.0                PT11M49S   \n",
       "4  ...                  480.0                   360.0                  PT8M2S   \n",
       "\n",
       "   contentDetails.dimension  \\\n",
       "0                        2d   \n",
       "1                        2d   \n",
       "2                       NaN   \n",
       "3                        2d   \n",
       "4                        2d   \n",
       "\n",
       "                        topicDetails.topicCategories snippet.defaultLanguage  \\\n",
       "0  ['https://en.wikipedia.org/wiki/Lifestyle_(soc...                     NaN   \n",
       "1  ['https://en.wikipedia.org/wiki/Lifestyle_(soc...                      en   \n",
       "2                                                NaN                     NaN   \n",
       "3  ['https://en.wikipedia.org/wiki/Lifestyle_(soc...                     NaN   \n",
       "4  ['https://en.wikipedia.org/wiki/Lifestyle_(soc...                     NaN   \n",
       "\n",
       "             localizations.en.title  \\\n",
       "0                               NaN   \n",
       "1  Extreme $1,000,000 Hide And Seek   \n",
       "2                               NaN   \n",
       "3                               NaN   \n",
       "4                               NaN   \n",
       "\n",
       "                        localizations.en.description snippet.tags  \\\n",
       "0                                                NaN          NaN   \n",
       "1  I didn't expect that to happen at the end I wa...          NaN   \n",
       "2                                                NaN          NaN   \n",
       "3                                                NaN          NaN   \n",
       "4                                                NaN          NaN   \n",
       "\n",
       "  contentDetails.contentRating.ytRating  \n",
       "0                                   NaN  \n",
       "1                                   NaN  \n",
       "2                                   NaN  \n",
       "3                                   NaN  \n",
       "4                                   NaN  \n",
       "\n",
       "[5 rows x 26 columns]"
      ]
     },
     "execution_count": 3,
     "metadata": {},
     "output_type": "execute_result"
    }
   ],
   "source": [
    "df.head()"
   ]
  },
  {
   "cell_type": "code",
   "execution_count": 4,
   "id": "adcad856",
   "metadata": {
    "execution": {
     "iopub.execute_input": "2023-07-23T22:34:44.734040Z",
     "iopub.status.busy": "2023-07-23T22:34:44.733592Z",
     "iopub.status.idle": "2023-07-23T22:34:44.765937Z",
     "shell.execute_reply": "2023-07-23T22:34:44.764638Z"
    },
    "papermill": {
     "duration": 0.047529,
     "end_time": "2023-07-23T22:34:44.768885",
     "exception": false,
     "start_time": "2023-07-23T22:34:44.721356",
     "status": "completed"
    },
    "tags": []
   },
   "outputs": [
    {
     "data": {
      "text/html": [
       "<div>\n",
       "<style scoped>\n",
       "    .dataframe tbody tr th:only-of-type {\n",
       "        vertical-align: middle;\n",
       "    }\n",
       "\n",
       "    .dataframe tbody tr th {\n",
       "        vertical-align: top;\n",
       "    }\n",
       "\n",
       "    .dataframe thead th {\n",
       "        text-align: right;\n",
       "    }\n",
       "</style>\n",
       "<table border=\"1\" class=\"dataframe\">\n",
       "  <thead>\n",
       "    <tr style=\"text-align: right;\">\n",
       "      <th></th>\n",
       "      <th>id</th>\n",
       "      <th>title</th>\n",
       "      <th>description</th>\n",
       "      <th>publishTime</th>\n",
       "      <th>kind_stats</th>\n",
       "      <th>duration_seconds</th>\n",
       "      <th>viewCount</th>\n",
       "      <th>likeCount</th>\n",
       "      <th>commentCount</th>\n",
       "      <th>thumbnails.default.url</th>\n",
       "      <th>...</th>\n",
       "      <th>thumbnails.high.width</th>\n",
       "      <th>thumbnails.high.height</th>\n",
       "      <th>contentDetails.duration</th>\n",
       "      <th>contentDetails.dimension</th>\n",
       "      <th>topicDetails.topicCategories</th>\n",
       "      <th>snippet.defaultLanguage</th>\n",
       "      <th>localizations.en.title</th>\n",
       "      <th>localizations.en.description</th>\n",
       "      <th>snippet.tags</th>\n",
       "      <th>contentDetails.contentRating.ytRating</th>\n",
       "    </tr>\n",
       "  </thead>\n",
       "  <tbody>\n",
       "    <tr>\n",
       "      <th>242</th>\n",
       "      <td>yeHjsYQ076A</td>\n",
       "      <td>Remember When COD Was Fun?</td>\n",
       "      <td>Yup, another very pointless video ▻ Subscribe?...</td>\n",
       "      <td>2015-04-26 21:26:36+00:00</td>\n",
       "      <td>youtube#video</td>\n",
       "      <td>216</td>\n",
       "      <td>16312.0</td>\n",
       "      <td>574.0</td>\n",
       "      <td>145.0</td>\n",
       "      <td>https://i.ytimg.com/vi/yeHjsYQ076A/default.jpg</td>\n",
       "      <td>...</td>\n",
       "      <td>480.0</td>\n",
       "      <td>360.0</td>\n",
       "      <td>PT3M36S</td>\n",
       "      <td>2d</td>\n",
       "      <td>['https://en.wikipedia.org/wiki/Action-adventu...</td>\n",
       "      <td>NaN</td>\n",
       "      <td>NaN</td>\n",
       "      <td>NaN</td>\n",
       "      <td>['How', 'much', 'money', 'does', 'make', 'blac...</td>\n",
       "      <td>NaN</td>\n",
       "    </tr>\n",
       "    <tr>\n",
       "      <th>243</th>\n",
       "      <td>X7doE4h6W64</td>\n",
       "      <td>Insane Gun Sync - 7 Hours To Make</td>\n",
       "      <td>Look at this - http://gyazo.com/8852509d2350db...</td>\n",
       "      <td>2015-06-21 12:22:34+00:00</td>\n",
       "      <td>youtube#video</td>\n",
       "      <td>134</td>\n",
       "      <td>15740.0</td>\n",
       "      <td>637.0</td>\n",
       "      <td>105.0</td>\n",
       "      <td>https://i.ytimg.com/vi/X7doE4h6W64/default.jpg</td>\n",
       "      <td>...</td>\n",
       "      <td>480.0</td>\n",
       "      <td>360.0</td>\n",
       "      <td>PT2M14S</td>\n",
       "      <td>2d</td>\n",
       "      <td>['https://en.wikipedia.org/wiki/Action-adventu...</td>\n",
       "      <td>NaN</td>\n",
       "      <td>NaN</td>\n",
       "      <td>NaN</td>\n",
       "      <td>['How', 'much', 'money', 'does', 'make', 'blac...</td>\n",
       "      <td>NaN</td>\n",
       "    </tr>\n",
       "    <tr>\n",
       "      <th>244</th>\n",
       "      <td>AIytwdufwW8</td>\n",
       "      <td>MY MESSAGE TO COD YOUTUBERS (Watch till end plz)</td>\n",
       "      <td>The beginning of the video is a little off top...</td>\n",
       "      <td>2015-05-29 20:07:48+00:00</td>\n",
       "      <td>youtube#video</td>\n",
       "      <td>292</td>\n",
       "      <td>18502.0</td>\n",
       "      <td>508.0</td>\n",
       "      <td>117.0</td>\n",
       "      <td>https://i.ytimg.com/vi/AIytwdufwW8/default.jpg</td>\n",
       "      <td>...</td>\n",
       "      <td>480.0</td>\n",
       "      <td>360.0</td>\n",
       "      <td>PT4M52S</td>\n",
       "      <td>2d</td>\n",
       "      <td>['https://en.wikipedia.org/wiki/Action-adventu...</td>\n",
       "      <td>NaN</td>\n",
       "      <td>NaN</td>\n",
       "      <td>NaN</td>\n",
       "      <td>['How', 'much', 'money', 'does', 'make', 'blac...</td>\n",
       "      <td>NaN</td>\n",
       "    </tr>\n",
       "    <tr>\n",
       "      <th>245</th>\n",
       "      <td>56OkH6ocYZU</td>\n",
       "      <td>L0114R - Biblical Creeper Post for Post @L0114R</td>\n",
       "      <td>His channel - https://www.youtube.com/user/the...</td>\n",
       "      <td>2015-05-15 16:48:54+00:00</td>\n",
       "      <td>youtube#video</td>\n",
       "      <td>109</td>\n",
       "      <td>16627.0</td>\n",
       "      <td>430.0</td>\n",
       "      <td>134.0</td>\n",
       "      <td>https://i.ytimg.com/vi/56OkH6ocYZU/default.jpg</td>\n",
       "      <td>...</td>\n",
       "      <td>480.0</td>\n",
       "      <td>360.0</td>\n",
       "      <td>PT1M49S</td>\n",
       "      <td>2d</td>\n",
       "      <td>['https://en.wikipedia.org/wiki/Action-adventu...</td>\n",
       "      <td>NaN</td>\n",
       "      <td>NaN</td>\n",
       "      <td>NaN</td>\n",
       "      <td>['How', 'much', 'money', 'does', 'make', 'blac...</td>\n",
       "      <td>NaN</td>\n",
       "    </tr>\n",
       "    <tr>\n",
       "      <th>246</th>\n",
       "      <td>zi7tZ-2PhLk</td>\n",
       "      <td>How Much Money Do You Make As An Uber Driver??...</td>\n",
       "      <td>In this video I talk about being an uber drive...</td>\n",
       "      <td>2015-05-31 18:31:25+00:00</td>\n",
       "      <td>youtube#video</td>\n",
       "      <td>304</td>\n",
       "      <td>18773.0</td>\n",
       "      <td>370.0</td>\n",
       "      <td>59.0</td>\n",
       "      <td>https://i.ytimg.com/vi/zi7tZ-2PhLk/default.jpg</td>\n",
       "      <td>...</td>\n",
       "      <td>480.0</td>\n",
       "      <td>360.0</td>\n",
       "      <td>PT5M4S</td>\n",
       "      <td>2d</td>\n",
       "      <td>['https://en.wikipedia.org/wiki/Action-adventu...</td>\n",
       "      <td>NaN</td>\n",
       "      <td>NaN</td>\n",
       "      <td>NaN</td>\n",
       "      <td>['How', 'much', 'money', 'does', 'make', 'blac...</td>\n",
       "      <td>NaN</td>\n",
       "    </tr>\n",
       "  </tbody>\n",
       "</table>\n",
       "<p>5 rows × 26 columns</p>\n",
       "</div>"
      ],
      "text/plain": [
       "              id                                              title  \\\n",
       "242  yeHjsYQ076A                         Remember When COD Was Fun?   \n",
       "243  X7doE4h6W64                  Insane Gun Sync - 7 Hours To Make   \n",
       "244  AIytwdufwW8   MY MESSAGE TO COD YOUTUBERS (Watch till end plz)   \n",
       "245  56OkH6ocYZU    L0114R - Biblical Creeper Post for Post @L0114R   \n",
       "246  zi7tZ-2PhLk  How Much Money Do You Make As An Uber Driver??...   \n",
       "\n",
       "                                           description  \\\n",
       "242  Yup, another very pointless video ▻ Subscribe?...   \n",
       "243  Look at this - http://gyazo.com/8852509d2350db...   \n",
       "244  The beginning of the video is a little off top...   \n",
       "245  His channel - https://www.youtube.com/user/the...   \n",
       "246  In this video I talk about being an uber drive...   \n",
       "\n",
       "                   publishTime     kind_stats  duration_seconds  viewCount  \\\n",
       "242  2015-04-26 21:26:36+00:00  youtube#video               216    16312.0   \n",
       "243  2015-06-21 12:22:34+00:00  youtube#video               134    15740.0   \n",
       "244  2015-05-29 20:07:48+00:00  youtube#video               292    18502.0   \n",
       "245  2015-05-15 16:48:54+00:00  youtube#video               109    16627.0   \n",
       "246  2015-05-31 18:31:25+00:00  youtube#video               304    18773.0   \n",
       "\n",
       "     likeCount  commentCount                          thumbnails.default.url  \\\n",
       "242      574.0         145.0  https://i.ytimg.com/vi/yeHjsYQ076A/default.jpg   \n",
       "243      637.0         105.0  https://i.ytimg.com/vi/X7doE4h6W64/default.jpg   \n",
       "244      508.0         117.0  https://i.ytimg.com/vi/AIytwdufwW8/default.jpg   \n",
       "245      430.0         134.0  https://i.ytimg.com/vi/56OkH6ocYZU/default.jpg   \n",
       "246      370.0          59.0  https://i.ytimg.com/vi/zi7tZ-2PhLk/default.jpg   \n",
       "\n",
       "     ...  thumbnails.high.width  thumbnails.high.height  \\\n",
       "242  ...                  480.0                   360.0   \n",
       "243  ...                  480.0                   360.0   \n",
       "244  ...                  480.0                   360.0   \n",
       "245  ...                  480.0                   360.0   \n",
       "246  ...                  480.0                   360.0   \n",
       "\n",
       "    contentDetails.duration  contentDetails.dimension  \\\n",
       "242                 PT3M36S                        2d   \n",
       "243                 PT2M14S                        2d   \n",
       "244                 PT4M52S                        2d   \n",
       "245                 PT1M49S                        2d   \n",
       "246                  PT5M4S                        2d   \n",
       "\n",
       "                          topicDetails.topicCategories  \\\n",
       "242  ['https://en.wikipedia.org/wiki/Action-adventu...   \n",
       "243  ['https://en.wikipedia.org/wiki/Action-adventu...   \n",
       "244  ['https://en.wikipedia.org/wiki/Action-adventu...   \n",
       "245  ['https://en.wikipedia.org/wiki/Action-adventu...   \n",
       "246  ['https://en.wikipedia.org/wiki/Action-adventu...   \n",
       "\n",
       "    snippet.defaultLanguage  localizations.en.title  \\\n",
       "242                     NaN                     NaN   \n",
       "243                     NaN                     NaN   \n",
       "244                     NaN                     NaN   \n",
       "245                     NaN                     NaN   \n",
       "246                     NaN                     NaN   \n",
       "\n",
       "     localizations.en.description  \\\n",
       "242                           NaN   \n",
       "243                           NaN   \n",
       "244                           NaN   \n",
       "245                           NaN   \n",
       "246                           NaN   \n",
       "\n",
       "                                          snippet.tags  \\\n",
       "242  ['How', 'much', 'money', 'does', 'make', 'blac...   \n",
       "243  ['How', 'much', 'money', 'does', 'make', 'blac...   \n",
       "244  ['How', 'much', 'money', 'does', 'make', 'blac...   \n",
       "245  ['How', 'much', 'money', 'does', 'make', 'blac...   \n",
       "246  ['How', 'much', 'money', 'does', 'make', 'blac...   \n",
       "\n",
       "    contentDetails.contentRating.ytRating  \n",
       "242                                   NaN  \n",
       "243                                   NaN  \n",
       "244                                   NaN  \n",
       "245                                   NaN  \n",
       "246                                   NaN  \n",
       "\n",
       "[5 rows x 26 columns]"
      ]
     },
     "execution_count": 4,
     "metadata": {},
     "output_type": "execute_result"
    }
   ],
   "source": [
    "df.tail()"
   ]
  },
  {
   "cell_type": "code",
   "execution_count": 5,
   "id": "76cf4148",
   "metadata": {
    "execution": {
     "iopub.execute_input": "2023-07-23T22:34:44.795577Z",
     "iopub.status.busy": "2023-07-23T22:34:44.794260Z",
     "iopub.status.idle": "2023-07-23T22:34:44.802866Z",
     "shell.execute_reply": "2023-07-23T22:34:44.801927Z"
    },
    "papermill": {
     "duration": 0.023541,
     "end_time": "2023-07-23T22:34:44.805306",
     "exception": false,
     "start_time": "2023-07-23T22:34:44.781765",
     "status": "completed"
    },
    "tags": []
   },
   "outputs": [
    {
     "data": {
      "text/plain": [
       "id                                        object\n",
       "title                                     object\n",
       "description                               object\n",
       "publishTime                               object\n",
       "kind_stats                                object\n",
       "duration_seconds                           int64\n",
       "viewCount                                float64\n",
       "likeCount                                float64\n",
       "commentCount                             float64\n",
       "thumbnails.default.url                    object\n",
       "thumbnails.default.width                 float64\n",
       "thumbnails.default.height                float64\n",
       "thumbnails.medium.url                     object\n",
       "thumbnails.medium.width                  float64\n",
       "thumbnails.medium.height                 float64\n",
       "thumbnails.high.url                       object\n",
       "thumbnails.high.width                    float64\n",
       "thumbnails.high.height                   float64\n",
       "contentDetails.duration                   object\n",
       "contentDetails.dimension                  object\n",
       "topicDetails.topicCategories              object\n",
       "snippet.defaultLanguage                   object\n",
       "localizations.en.title                    object\n",
       "localizations.en.description              object\n",
       "snippet.tags                              object\n",
       "contentDetails.contentRating.ytRating     object\n",
       "dtype: object"
      ]
     },
     "execution_count": 5,
     "metadata": {},
     "output_type": "execute_result"
    }
   ],
   "source": [
    "df.dtypes"
   ]
  },
  {
   "cell_type": "code",
   "execution_count": 6,
   "id": "16c0a0f5",
   "metadata": {
    "execution": {
     "iopub.execute_input": "2023-07-23T22:34:44.830973Z",
     "iopub.status.busy": "2023-07-23T22:34:44.829797Z",
     "iopub.status.idle": "2023-07-23T22:34:44.891231Z",
     "shell.execute_reply": "2023-07-23T22:34:44.889463Z"
    },
    "papermill": {
     "duration": 0.077563,
     "end_time": "2023-07-23T22:34:44.894734",
     "exception": false,
     "start_time": "2023-07-23T22:34:44.817171",
     "status": "completed"
    },
    "tags": []
   },
   "outputs": [
    {
     "data": {
      "text/html": [
       "<div>\n",
       "<style scoped>\n",
       "    .dataframe tbody tr th:only-of-type {\n",
       "        vertical-align: middle;\n",
       "    }\n",
       "\n",
       "    .dataframe tbody tr th {\n",
       "        vertical-align: top;\n",
       "    }\n",
       "\n",
       "    .dataframe thead th {\n",
       "        text-align: right;\n",
       "    }\n",
       "</style>\n",
       "<table border=\"1\" class=\"dataframe\">\n",
       "  <thead>\n",
       "    <tr style=\"text-align: right;\">\n",
       "      <th></th>\n",
       "      <th>duration_seconds</th>\n",
       "      <th>viewCount</th>\n",
       "      <th>likeCount</th>\n",
       "      <th>commentCount</th>\n",
       "      <th>thumbnails.default.width</th>\n",
       "      <th>thumbnails.default.height</th>\n",
       "      <th>thumbnails.medium.width</th>\n",
       "      <th>thumbnails.medium.height</th>\n",
       "      <th>thumbnails.high.width</th>\n",
       "      <th>thumbnails.high.height</th>\n",
       "    </tr>\n",
       "  </thead>\n",
       "  <tbody>\n",
       "    <tr>\n",
       "      <th>count</th>\n",
       "      <td>247.000000</td>\n",
       "      <td>2.460000e+02</td>\n",
       "      <td>2.440000e+02</td>\n",
       "      <td>245.000000</td>\n",
       "      <td>246.0</td>\n",
       "      <td>246.0</td>\n",
       "      <td>246.0</td>\n",
       "      <td>246.0</td>\n",
       "      <td>246.0</td>\n",
       "      <td>246.0</td>\n",
       "    </tr>\n",
       "    <tr>\n",
       "      <th>mean</th>\n",
       "      <td>1886.234818</td>\n",
       "      <td>5.084638e+07</td>\n",
       "      <td>1.610498e+06</td>\n",
       "      <td>75562.783673</td>\n",
       "      <td>120.0</td>\n",
       "      <td>90.0</td>\n",
       "      <td>320.0</td>\n",
       "      <td>180.0</td>\n",
       "      <td>480.0</td>\n",
       "      <td>360.0</td>\n",
       "    </tr>\n",
       "    <tr>\n",
       "      <th>std</th>\n",
       "      <td>8642.188728</td>\n",
       "      <td>4.062672e+07</td>\n",
       "      <td>1.879529e+06</td>\n",
       "      <td>85356.537127</td>\n",
       "      <td>0.0</td>\n",
       "      <td>0.0</td>\n",
       "      <td>0.0</td>\n",
       "      <td>0.0</td>\n",
       "      <td>0.0</td>\n",
       "      <td>0.0</td>\n",
       "    </tr>\n",
       "    <tr>\n",
       "      <th>min</th>\n",
       "      <td>0.000000</td>\n",
       "      <td>1.395400e+04</td>\n",
       "      <td>3.700000e+02</td>\n",
       "      <td>59.000000</td>\n",
       "      <td>120.0</td>\n",
       "      <td>90.0</td>\n",
       "      <td>320.0</td>\n",
       "      <td>180.0</td>\n",
       "      <td>480.0</td>\n",
       "      <td>360.0</td>\n",
       "    </tr>\n",
       "    <tr>\n",
       "      <th>25%</th>\n",
       "      <td>425.500000</td>\n",
       "      <td>1.406442e+07</td>\n",
       "      <td>4.348780e+05</td>\n",
       "      <td>21552.000000</td>\n",
       "      <td>120.0</td>\n",
       "      <td>90.0</td>\n",
       "      <td>320.0</td>\n",
       "      <td>180.0</td>\n",
       "      <td>480.0</td>\n",
       "      <td>360.0</td>\n",
       "    </tr>\n",
       "    <tr>\n",
       "      <th>50%</th>\n",
       "      <td>776.000000</td>\n",
       "      <td>4.904782e+07</td>\n",
       "      <td>1.358232e+06</td>\n",
       "      <td>60701.000000</td>\n",
       "      <td>120.0</td>\n",
       "      <td>90.0</td>\n",
       "      <td>320.0</td>\n",
       "      <td>180.0</td>\n",
       "      <td>480.0</td>\n",
       "      <td>360.0</td>\n",
       "    </tr>\n",
       "    <tr>\n",
       "      <th>75%</th>\n",
       "      <td>923.000000</td>\n",
       "      <td>8.125392e+07</td>\n",
       "      <td>2.294378e+06</td>\n",
       "      <td>99670.000000</td>\n",
       "      <td>120.0</td>\n",
       "      <td>90.0</td>\n",
       "      <td>320.0</td>\n",
       "      <td>180.0</td>\n",
       "      <td>480.0</td>\n",
       "      <td>360.0</td>\n",
       "    </tr>\n",
       "    <tr>\n",
       "      <th>max</th>\n",
       "      <td>85686.000000</td>\n",
       "      <td>1.787632e+08</td>\n",
       "      <td>1.904943e+07</td>\n",
       "      <td>726861.000000</td>\n",
       "      <td>120.0</td>\n",
       "      <td>90.0</td>\n",
       "      <td>320.0</td>\n",
       "      <td>180.0</td>\n",
       "      <td>480.0</td>\n",
       "      <td>360.0</td>\n",
       "    </tr>\n",
       "  </tbody>\n",
       "</table>\n",
       "</div>"
      ],
      "text/plain": [
       "       duration_seconds     viewCount     likeCount   commentCount  \\\n",
       "count        247.000000  2.460000e+02  2.440000e+02     245.000000   \n",
       "mean        1886.234818  5.084638e+07  1.610498e+06   75562.783673   \n",
       "std         8642.188728  4.062672e+07  1.879529e+06   85356.537127   \n",
       "min            0.000000  1.395400e+04  3.700000e+02      59.000000   \n",
       "25%          425.500000  1.406442e+07  4.348780e+05   21552.000000   \n",
       "50%          776.000000  4.904782e+07  1.358232e+06   60701.000000   \n",
       "75%          923.000000  8.125392e+07  2.294378e+06   99670.000000   \n",
       "max        85686.000000  1.787632e+08  1.904943e+07  726861.000000   \n",
       "\n",
       "       thumbnails.default.width  thumbnails.default.height  \\\n",
       "count                     246.0                      246.0   \n",
       "mean                      120.0                       90.0   \n",
       "std                         0.0                        0.0   \n",
       "min                       120.0                       90.0   \n",
       "25%                       120.0                       90.0   \n",
       "50%                       120.0                       90.0   \n",
       "75%                       120.0                       90.0   \n",
       "max                       120.0                       90.0   \n",
       "\n",
       "       thumbnails.medium.width  thumbnails.medium.height  \\\n",
       "count                    246.0                     246.0   \n",
       "mean                     320.0                     180.0   \n",
       "std                        0.0                       0.0   \n",
       "min                      320.0                     180.0   \n",
       "25%                      320.0                     180.0   \n",
       "50%                      320.0                     180.0   \n",
       "75%                      320.0                     180.0   \n",
       "max                      320.0                     180.0   \n",
       "\n",
       "       thumbnails.high.width  thumbnails.high.height  \n",
       "count                  246.0                   246.0  \n",
       "mean                   480.0                   360.0  \n",
       "std                      0.0                     0.0  \n",
       "min                    480.0                   360.0  \n",
       "25%                    480.0                   360.0  \n",
       "50%                    480.0                   360.0  \n",
       "75%                    480.0                   360.0  \n",
       "max                    480.0                   360.0  "
      ]
     },
     "execution_count": 6,
     "metadata": {},
     "output_type": "execute_result"
    }
   ],
   "source": [
    "df.describe()"
   ]
  },
  {
   "cell_type": "code",
   "execution_count": 7,
   "id": "33a585be",
   "metadata": {
    "execution": {
     "iopub.execute_input": "2023-07-23T22:34:44.921866Z",
     "iopub.status.busy": "2023-07-23T22:34:44.921344Z",
     "iopub.status.idle": "2023-07-23T22:34:44.932855Z",
     "shell.execute_reply": "2023-07-23T22:34:44.931427Z"
    },
    "papermill": {
     "duration": 0.028966,
     "end_time": "2023-07-23T22:34:44.935915",
     "exception": false,
     "start_time": "2023-07-23T22:34:44.906949",
     "status": "completed"
    },
    "tags": []
   },
   "outputs": [
    {
     "data": {
      "text/plain": [
       "0       84717282.0\n",
       "1       32090178.0\n",
       "2              NaN\n",
       "3      101745632.0\n",
       "4       50008942.0\n",
       "          ...     \n",
       "242        16312.0\n",
       "243        15740.0\n",
       "244        18502.0\n",
       "245        16627.0\n",
       "246        18773.0\n",
       "Name: viewCount, Length: 247, dtype: float64"
      ]
     },
     "execution_count": 7,
     "metadata": {},
     "output_type": "execute_result"
    }
   ],
   "source": [
    "# looking at a columns\n",
    "df['viewCount']"
   ]
  },
  {
   "cell_type": "code",
   "execution_count": 8,
   "id": "813f8b6b",
   "metadata": {
    "execution": {
     "iopub.execute_input": "2023-07-23T22:34:44.962869Z",
     "iopub.status.busy": "2023-07-23T22:34:44.961774Z",
     "iopub.status.idle": "2023-07-23T22:34:44.972751Z",
     "shell.execute_reply": "2023-07-23T22:34:44.971286Z"
    },
    "papermill": {
     "duration": 0.027114,
     "end_time": "2023-07-23T22:34:44.975327",
     "exception": false,
     "start_time": "2023-07-23T22:34:44.948213",
     "status": "completed"
    },
    "tags": []
   },
   "outputs": [
    {
     "data": {
      "text/plain": [
       "id                                                                             cExLQ1o2pDw\n",
       "title                                                      First To Rob Bank Wins $100,000\n",
       "description                              I didnt think he would actually rob the bank.....\n",
       "publishTime                                                      2021-09-26 20:00:06+00:00\n",
       "kind_stats                                                                   youtube#video\n",
       "duration_seconds                                                                       482\n",
       "viewCount                                                                       50008942.0\n",
       "likeCount                                                                        2359606.0\n",
       "commentCount                                                                      120621.0\n",
       "thumbnails.default.url                      https://i.ytimg.com/vi/cExLQ1o2pDw/default.jpg\n",
       "thumbnails.default.width                                                             120.0\n",
       "thumbnails.default.height                                                             90.0\n",
       "thumbnails.medium.url                     https://i.ytimg.com/vi/cExLQ1o2pDw/mqdefault.jpg\n",
       "thumbnails.medium.width                                                              320.0\n",
       "thumbnails.medium.height                                                             180.0\n",
       "thumbnails.high.url                       https://i.ytimg.com/vi/cExLQ1o2pDw/hqdefault.jpg\n",
       "thumbnails.high.width                                                                480.0\n",
       "thumbnails.high.height                                                               360.0\n",
       "contentDetails.duration                                                             PT8M2S\n",
       "contentDetails.dimension                                                                2d\n",
       "topicDetails.topicCategories             ['https://en.wikipedia.org/wiki/Lifestyle_(soc...\n",
       "snippet.defaultLanguage                                                                NaN\n",
       "localizations.en.title                                                                 NaN\n",
       "localizations.en.description                                                           NaN\n",
       "snippet.tags                                                                           NaN\n",
       "contentDetails.contentRating.ytRating                                                  NaN\n",
       "Name: 4, dtype: object"
      ]
     },
     "execution_count": 8,
     "metadata": {},
     "output_type": "execute_result"
    }
   ],
   "source": [
    "# looking at a particular row in a column using loc\n",
    "df.loc[4]"
   ]
  },
  {
   "cell_type": "code",
   "execution_count": 9,
   "id": "292aedc6",
   "metadata": {
    "execution": {
     "iopub.execute_input": "2023-07-23T22:34:45.002062Z",
     "iopub.status.busy": "2023-07-23T22:34:45.001658Z",
     "iopub.status.idle": "2023-07-23T22:34:45.009115Z",
     "shell.execute_reply": "2023-07-23T22:34:45.007771Z"
    },
    "papermill": {
     "duration": 0.024429,
     "end_time": "2023-07-23T22:34:45.012112",
     "exception": false,
     "start_time": "2023-07-23T22:34:44.987683",
     "status": "completed"
    },
    "tags": []
   },
   "outputs": [],
   "source": [
    "#using the id identifier\n",
    "df = df.set_index('id') "
   ]
  },
  {
   "cell_type": "code",
   "execution_count": 10,
   "id": "40b61f28",
   "metadata": {
    "execution": {
     "iopub.execute_input": "2023-07-23T22:34:45.041156Z",
     "iopub.status.busy": "2023-07-23T22:34:45.039856Z",
     "iopub.status.idle": "2023-07-23T22:34:45.052967Z",
     "shell.execute_reply": "2023-07-23T22:34:45.051531Z"
    },
    "papermill": {
     "duration": 0.031019,
     "end_time": "2023-07-23T22:34:45.055714",
     "exception": false,
     "start_time": "2023-07-23T22:34:45.024695",
     "status": "completed"
    },
    "tags": []
   },
   "outputs": [
    {
     "data": {
      "text/plain": [
       "title                                                      First To Rob Bank Wins $100,000\n",
       "description                              I didnt think he would actually rob the bank.....\n",
       "publishTime                                                      2021-09-26 20:00:06+00:00\n",
       "kind_stats                                                                   youtube#video\n",
       "duration_seconds                                                                       482\n",
       "viewCount                                                                       50008942.0\n",
       "likeCount                                                                        2359606.0\n",
       "commentCount                                                                      120621.0\n",
       "thumbnails.default.url                      https://i.ytimg.com/vi/cExLQ1o2pDw/default.jpg\n",
       "thumbnails.default.width                                                             120.0\n",
       "thumbnails.default.height                                                             90.0\n",
       "thumbnails.medium.url                     https://i.ytimg.com/vi/cExLQ1o2pDw/mqdefault.jpg\n",
       "thumbnails.medium.width                                                              320.0\n",
       "thumbnails.medium.height                                                             180.0\n",
       "thumbnails.high.url                       https://i.ytimg.com/vi/cExLQ1o2pDw/hqdefault.jpg\n",
       "thumbnails.high.width                                                                480.0\n",
       "thumbnails.high.height                                                               360.0\n",
       "contentDetails.duration                                                             PT8M2S\n",
       "contentDetails.dimension                                                                2d\n",
       "topicDetails.topicCategories             ['https://en.wikipedia.org/wiki/Lifestyle_(soc...\n",
       "snippet.defaultLanguage                                                                NaN\n",
       "localizations.en.title                                                                 NaN\n",
       "localizations.en.description                                                           NaN\n",
       "snippet.tags                                                                           NaN\n",
       "contentDetails.contentRating.ytRating                                                  NaN\n",
       "Name: cExLQ1o2pDw, dtype: object"
      ]
     },
     "execution_count": 10,
     "metadata": {},
     "output_type": "execute_result"
    }
   ],
   "source": [
    "df.loc['cExLQ1o2pDw']"
   ]
  },
  {
   "cell_type": "code",
   "execution_count": 11,
   "id": "d578f019",
   "metadata": {
    "execution": {
     "iopub.execute_input": "2023-07-23T22:34:45.083918Z",
     "iopub.status.busy": "2023-07-23T22:34:45.083468Z",
     "iopub.status.idle": "2023-07-23T22:34:45.091813Z",
     "shell.execute_reply": "2023-07-23T22:34:45.090689Z"
    },
    "papermill": {
     "duration": 0.026138,
     "end_time": "2023-07-23T22:34:45.095049",
     "exception": false,
     "start_time": "2023-07-23T22:34:45.068911",
     "status": "completed"
    },
    "tags": []
   },
   "outputs": [
    {
     "data": {
      "text/plain": [
       "Index(['title', 'description', 'publishTime', 'kind_stats', 'duration_seconds',\n",
       "       'viewCount', 'likeCount', 'commentCount', 'thumbnails.default.url',\n",
       "       'thumbnails.default.width', 'thumbnails.default.height',\n",
       "       'thumbnails.medium.url', 'thumbnails.medium.width',\n",
       "       'thumbnails.medium.height', 'thumbnails.high.url',\n",
       "       'thumbnails.high.width', 'thumbnails.high.height',\n",
       "       'contentDetails.duration', 'contentDetails.dimension',\n",
       "       'topicDetails.topicCategories', 'snippet.defaultLanguage',\n",
       "       'localizations.en.title', 'localizations.en.description',\n",
       "       'snippet.tags', 'contentDetails.contentRating.ytRating'],\n",
       "      dtype='object')"
      ]
     },
     "execution_count": 11,
     "metadata": {},
     "output_type": "execute_result"
    }
   ],
   "source": [
    "df.columns"
   ]
  },
  {
   "cell_type": "code",
   "execution_count": 12,
   "id": "3b6e4f3e",
   "metadata": {
    "execution": {
     "iopub.execute_input": "2023-07-23T22:34:45.123269Z",
     "iopub.status.busy": "2023-07-23T22:34:45.122840Z",
     "iopub.status.idle": "2023-07-23T22:34:45.150140Z",
     "shell.execute_reply": "2023-07-23T22:34:45.148744Z"
    },
    "papermill": {
     "duration": 0.044751,
     "end_time": "2023-07-23T22:34:45.153026",
     "exception": false,
     "start_time": "2023-07-23T22:34:45.108275",
     "status": "completed"
    },
    "tags": []
   },
   "outputs": [
    {
     "data": {
      "text/html": [
       "<div>\n",
       "<style scoped>\n",
       "    .dataframe tbody tr th:only-of-type {\n",
       "        vertical-align: middle;\n",
       "    }\n",
       "\n",
       "    .dataframe tbody tr th {\n",
       "        vertical-align: top;\n",
       "    }\n",
       "\n",
       "    .dataframe thead th {\n",
       "        text-align: right;\n",
       "    }\n",
       "</style>\n",
       "<table border=\"1\" class=\"dataframe\">\n",
       "  <thead>\n",
       "    <tr style=\"text-align: right;\">\n",
       "      <th></th>\n",
       "      <th>title</th>\n",
       "      <th>description</th>\n",
       "      <th>publishTime</th>\n",
       "      <th>duration_seconds</th>\n",
       "      <th>viewCount</th>\n",
       "      <th>likeCount</th>\n",
       "      <th>commentCount</th>\n",
       "    </tr>\n",
       "    <tr>\n",
       "      <th>id</th>\n",
       "      <th></th>\n",
       "      <th></th>\n",
       "      <th></th>\n",
       "      <th></th>\n",
       "      <th></th>\n",
       "      <th></th>\n",
       "      <th></th>\n",
       "    </tr>\n",
       "  </thead>\n",
       "  <tbody>\n",
       "    <tr>\n",
       "      <th>TQHEJj68Jew</th>\n",
       "      <td>I Got Hunted By A Real Bounty Hunter</td>\n",
       "      <td>Sign up for Current w/ my Creator Code \"BEAST\"...</td>\n",
       "      <td>2021-04-24 20:00:00+00:00</td>\n",
       "      <td>861</td>\n",
       "      <td>84717282.0</td>\n",
       "      <td>2876493.0</td>\n",
       "      <td>128922.0</td>\n",
       "    </tr>\n",
       "    <tr>\n",
       "      <th>00NgUctWoLQ</th>\n",
       "      <td>Extreme $1,000,000 Hide And Seek</td>\n",
       "      <td>I didn't expect that to happen at the end I wa...</td>\n",
       "      <td>2021-12-18 21:00:00+00:00</td>\n",
       "      <td>729</td>\n",
       "      <td>32090178.0</td>\n",
       "      <td>2125183.0</td>\n",
       "      <td>73593.0</td>\n",
       "    </tr>\n",
       "    <tr>\n",
       "      <th>NaN</th>\n",
       "      <td>MrBeast</td>\n",
       "      <td>Accomplishments - Raised $20000000 To Plant 20...</td>\n",
       "      <td>2012-02-20 00:43:50+00:00</td>\n",
       "      <td>0</td>\n",
       "      <td>NaN</td>\n",
       "      <td>NaN</td>\n",
       "      <td>NaN</td>\n",
       "    </tr>\n",
       "    <tr>\n",
       "      <th>ayXxwJJId_c</th>\n",
       "      <td>I Bought The World&amp;#39;s Largest Mystery Box! ...</td>\n",
       "      <td>I cant believe I spent over $500000 on mystery...</td>\n",
       "      <td>2021-04-03 20:00:01+00:00</td>\n",
       "      <td>709</td>\n",
       "      <td>101745632.0</td>\n",
       "      <td>3110824.0</td>\n",
       "      <td>162796.0</td>\n",
       "    </tr>\n",
       "    <tr>\n",
       "      <th>cExLQ1o2pDw</th>\n",
       "      <td>First To Rob Bank Wins $100,000</td>\n",
       "      <td>I didnt think he would actually rob the bank.....</td>\n",
       "      <td>2021-09-26 20:00:06+00:00</td>\n",
       "      <td>482</td>\n",
       "      <td>50008942.0</td>\n",
       "      <td>2359606.0</td>\n",
       "      <td>120621.0</td>\n",
       "    </tr>\n",
       "    <tr>\n",
       "      <th>...</th>\n",
       "      <td>...</td>\n",
       "      <td>...</td>\n",
       "      <td>...</td>\n",
       "      <td>...</td>\n",
       "      <td>...</td>\n",
       "      <td>...</td>\n",
       "      <td>...</td>\n",
       "    </tr>\n",
       "    <tr>\n",
       "      <th>yeHjsYQ076A</th>\n",
       "      <td>Remember When COD Was Fun?</td>\n",
       "      <td>Yup, another very pointless video ▻ Subscribe?...</td>\n",
       "      <td>2015-04-26 21:26:36+00:00</td>\n",
       "      <td>216</td>\n",
       "      <td>16312.0</td>\n",
       "      <td>574.0</td>\n",
       "      <td>145.0</td>\n",
       "    </tr>\n",
       "    <tr>\n",
       "      <th>X7doE4h6W64</th>\n",
       "      <td>Insane Gun Sync - 7 Hours To Make</td>\n",
       "      <td>Look at this - http://gyazo.com/8852509d2350db...</td>\n",
       "      <td>2015-06-21 12:22:34+00:00</td>\n",
       "      <td>134</td>\n",
       "      <td>15740.0</td>\n",
       "      <td>637.0</td>\n",
       "      <td>105.0</td>\n",
       "    </tr>\n",
       "    <tr>\n",
       "      <th>AIytwdufwW8</th>\n",
       "      <td>MY MESSAGE TO COD YOUTUBERS (Watch till end plz)</td>\n",
       "      <td>The beginning of the video is a little off top...</td>\n",
       "      <td>2015-05-29 20:07:48+00:00</td>\n",
       "      <td>292</td>\n",
       "      <td>18502.0</td>\n",
       "      <td>508.0</td>\n",
       "      <td>117.0</td>\n",
       "    </tr>\n",
       "    <tr>\n",
       "      <th>56OkH6ocYZU</th>\n",
       "      <td>L0114R - Biblical Creeper Post for Post @L0114R</td>\n",
       "      <td>His channel - https://www.youtube.com/user/the...</td>\n",
       "      <td>2015-05-15 16:48:54+00:00</td>\n",
       "      <td>109</td>\n",
       "      <td>16627.0</td>\n",
       "      <td>430.0</td>\n",
       "      <td>134.0</td>\n",
       "    </tr>\n",
       "    <tr>\n",
       "      <th>zi7tZ-2PhLk</th>\n",
       "      <td>How Much Money Do You Make As An Uber Driver??...</td>\n",
       "      <td>In this video I talk about being an uber drive...</td>\n",
       "      <td>2015-05-31 18:31:25+00:00</td>\n",
       "      <td>304</td>\n",
       "      <td>18773.0</td>\n",
       "      <td>370.0</td>\n",
       "      <td>59.0</td>\n",
       "    </tr>\n",
       "  </tbody>\n",
       "</table>\n",
       "<p>247 rows × 7 columns</p>\n",
       "</div>"
      ],
      "text/plain": [
       "                                                         title  \\\n",
       "id                                                               \n",
       "TQHEJj68Jew               I Got Hunted By A Real Bounty Hunter   \n",
       "00NgUctWoLQ                   Extreme $1,000,000 Hide And Seek   \n",
       "NaN                                                    MrBeast   \n",
       "ayXxwJJId_c  I Bought The World&#39;s Largest Mystery Box! ...   \n",
       "cExLQ1o2pDw                    First To Rob Bank Wins $100,000   \n",
       "...                                                        ...   \n",
       "yeHjsYQ076A                         Remember When COD Was Fun?   \n",
       "X7doE4h6W64                  Insane Gun Sync - 7 Hours To Make   \n",
       "AIytwdufwW8   MY MESSAGE TO COD YOUTUBERS (Watch till end plz)   \n",
       "56OkH6ocYZU    L0114R - Biblical Creeper Post for Post @L0114R   \n",
       "zi7tZ-2PhLk  How Much Money Do You Make As An Uber Driver??...   \n",
       "\n",
       "                                                   description  \\\n",
       "id                                                               \n",
       "TQHEJj68Jew  Sign up for Current w/ my Creator Code \"BEAST\"...   \n",
       "00NgUctWoLQ  I didn't expect that to happen at the end I wa...   \n",
       "NaN          Accomplishments - Raised $20000000 To Plant 20...   \n",
       "ayXxwJJId_c  I cant believe I spent over $500000 on mystery...   \n",
       "cExLQ1o2pDw  I didnt think he would actually rob the bank.....   \n",
       "...                                                        ...   \n",
       "yeHjsYQ076A  Yup, another very pointless video ▻ Subscribe?...   \n",
       "X7doE4h6W64  Look at this - http://gyazo.com/8852509d2350db...   \n",
       "AIytwdufwW8  The beginning of the video is a little off top...   \n",
       "56OkH6ocYZU  His channel - https://www.youtube.com/user/the...   \n",
       "zi7tZ-2PhLk  In this video I talk about being an uber drive...   \n",
       "\n",
       "                           publishTime  duration_seconds    viewCount  \\\n",
       "id                                                                      \n",
       "TQHEJj68Jew  2021-04-24 20:00:00+00:00               861   84717282.0   \n",
       "00NgUctWoLQ  2021-12-18 21:00:00+00:00               729   32090178.0   \n",
       "NaN          2012-02-20 00:43:50+00:00                 0          NaN   \n",
       "ayXxwJJId_c  2021-04-03 20:00:01+00:00               709  101745632.0   \n",
       "cExLQ1o2pDw  2021-09-26 20:00:06+00:00               482   50008942.0   \n",
       "...                                ...               ...          ...   \n",
       "yeHjsYQ076A  2015-04-26 21:26:36+00:00               216      16312.0   \n",
       "X7doE4h6W64  2015-06-21 12:22:34+00:00               134      15740.0   \n",
       "AIytwdufwW8  2015-05-29 20:07:48+00:00               292      18502.0   \n",
       "56OkH6ocYZU  2015-05-15 16:48:54+00:00               109      16627.0   \n",
       "zi7tZ-2PhLk  2015-05-31 18:31:25+00:00               304      18773.0   \n",
       "\n",
       "             likeCount  commentCount  \n",
       "id                                    \n",
       "TQHEJj68Jew  2876493.0      128922.0  \n",
       "00NgUctWoLQ  2125183.0       73593.0  \n",
       "NaN                NaN           NaN  \n",
       "ayXxwJJId_c  3110824.0      162796.0  \n",
       "cExLQ1o2pDw  2359606.0      120621.0  \n",
       "...                ...           ...  \n",
       "yeHjsYQ076A      574.0         145.0  \n",
       "X7doE4h6W64      637.0         105.0  \n",
       "AIytwdufwW8      508.0         117.0  \n",
       "56OkH6ocYZU      430.0         134.0  \n",
       "zi7tZ-2PhLk      370.0          59.0  \n",
       "\n",
       "[247 rows x 7 columns]"
      ]
     },
     "execution_count": 12,
     "metadata": {},
     "output_type": "execute_result"
    }
   ],
   "source": [
    "#subsetting columns\n",
    "df[['title', 'description',\n",
    "     'publishTime', \n",
    "    'duration_seconds', 'viewCount', \n",
    "    'likeCount', 'commentCount']]"
   ]
  },
  {
   "cell_type": "code",
   "execution_count": 13,
   "id": "b7b5a4a1",
   "metadata": {
    "execution": {
     "iopub.execute_input": "2023-07-23T22:34:45.182602Z",
     "iopub.status.busy": "2023-07-23T22:34:45.181850Z",
     "iopub.status.idle": "2023-07-23T22:34:45.210998Z",
     "shell.execute_reply": "2023-07-23T22:34:45.209825Z"
    },
    "papermill": {
     "duration": 0.046762,
     "end_time": "2023-07-23T22:34:45.213594",
     "exception": false,
     "start_time": "2023-07-23T22:34:45.166832",
     "status": "completed"
    },
    "tags": []
   },
   "outputs": [
    {
     "data": {
      "text/html": [
       "<div>\n",
       "<style scoped>\n",
       "    .dataframe tbody tr th:only-of-type {\n",
       "        vertical-align: middle;\n",
       "    }\n",
       "\n",
       "    .dataframe tbody tr th {\n",
       "        vertical-align: top;\n",
       "    }\n",
       "\n",
       "    .dataframe thead th {\n",
       "        text-align: right;\n",
       "    }\n",
       "</style>\n",
       "<table border=\"1\" class=\"dataframe\">\n",
       "  <thead>\n",
       "    <tr style=\"text-align: right;\">\n",
       "      <th></th>\n",
       "      <th>title</th>\n",
       "      <th>description</th>\n",
       "      <th>publishTime</th>\n",
       "      <th>kind_stats</th>\n",
       "      <th>duration_seconds</th>\n",
       "      <th>viewCount</th>\n",
       "      <th>likeCount</th>\n",
       "      <th>commentCount</th>\n",
       "      <th>thumbnails.default.url</th>\n",
       "      <th>thumbnails.default.width</th>\n",
       "      <th>...</th>\n",
       "      <th>thumbnails.high.width</th>\n",
       "      <th>thumbnails.high.height</th>\n",
       "      <th>contentDetails.duration</th>\n",
       "      <th>contentDetails.dimension</th>\n",
       "      <th>topicDetails.topicCategories</th>\n",
       "      <th>snippet.defaultLanguage</th>\n",
       "      <th>localizations.en.title</th>\n",
       "      <th>localizations.en.description</th>\n",
       "      <th>snippet.tags</th>\n",
       "      <th>contentDetails.contentRating.ytRating</th>\n",
       "    </tr>\n",
       "    <tr>\n",
       "      <th>id</th>\n",
       "      <th></th>\n",
       "      <th></th>\n",
       "      <th></th>\n",
       "      <th></th>\n",
       "      <th></th>\n",
       "      <th></th>\n",
       "      <th></th>\n",
       "      <th></th>\n",
       "      <th></th>\n",
       "      <th></th>\n",
       "      <th></th>\n",
       "      <th></th>\n",
       "      <th></th>\n",
       "      <th></th>\n",
       "      <th></th>\n",
       "      <th></th>\n",
       "      <th></th>\n",
       "      <th></th>\n",
       "      <th></th>\n",
       "      <th></th>\n",
       "      <th></th>\n",
       "    </tr>\n",
       "  </thead>\n",
       "  <tbody>\n",
       "    <tr>\n",
       "      <th>TQHEJj68Jew</th>\n",
       "      <td>I Got Hunted By A Real Bounty Hunter</td>\n",
       "      <td>Sign up for Current w/ my Creator Code \"BEAST\"...</td>\n",
       "      <td>2021-04-24 20:00:00+00:00</td>\n",
       "      <td>youtube#video</td>\n",
       "      <td>861</td>\n",
       "      <td>84717282.0</td>\n",
       "      <td>2876493.0</td>\n",
       "      <td>128922.0</td>\n",
       "      <td>https://i.ytimg.com/vi/TQHEJj68Jew/default.jpg</td>\n",
       "      <td>120.0</td>\n",
       "      <td>...</td>\n",
       "      <td>480.0</td>\n",
       "      <td>360.0</td>\n",
       "      <td>PT14M21S</td>\n",
       "      <td>2d</td>\n",
       "      <td>['https://en.wikipedia.org/wiki/Lifestyle_(soc...</td>\n",
       "      <td>NaN</td>\n",
       "      <td>NaN</td>\n",
       "      <td>NaN</td>\n",
       "      <td>NaN</td>\n",
       "      <td>NaN</td>\n",
       "    </tr>\n",
       "    <tr>\n",
       "      <th>00NgUctWoLQ</th>\n",
       "      <td>Extreme $1,000,000 Hide And Seek</td>\n",
       "      <td>I didn't expect that to happen at the end I wa...</td>\n",
       "      <td>2021-12-18 21:00:00+00:00</td>\n",
       "      <td>youtube#video</td>\n",
       "      <td>729</td>\n",
       "      <td>32090178.0</td>\n",
       "      <td>2125183.0</td>\n",
       "      <td>73593.0</td>\n",
       "      <td>https://i.ytimg.com/vi/00NgUctWoLQ/default.jpg</td>\n",
       "      <td>120.0</td>\n",
       "      <td>...</td>\n",
       "      <td>480.0</td>\n",
       "      <td>360.0</td>\n",
       "      <td>PT12M9S</td>\n",
       "      <td>2d</td>\n",
       "      <td>['https://en.wikipedia.org/wiki/Lifestyle_(soc...</td>\n",
       "      <td>en</td>\n",
       "      <td>Extreme $1,000,000 Hide And Seek</td>\n",
       "      <td>I didn't expect that to happen at the end I wa...</td>\n",
       "      <td>NaN</td>\n",
       "      <td>NaN</td>\n",
       "    </tr>\n",
       "    <tr>\n",
       "      <th>NaN</th>\n",
       "      <td>MrBeast</td>\n",
       "      <td>Accomplishments - Raised $20000000 To Plant 20...</td>\n",
       "      <td>2012-02-20 00:43:50+00:00</td>\n",
       "      <td>NaN</td>\n",
       "      <td>0</td>\n",
       "      <td>NaN</td>\n",
       "      <td>NaN</td>\n",
       "      <td>NaN</td>\n",
       "      <td>https://yt3.ggpht.com/ytc/AKedOLTctGKJ32CdDLiS...</td>\n",
       "      <td>NaN</td>\n",
       "      <td>...</td>\n",
       "      <td>NaN</td>\n",
       "      <td>NaN</td>\n",
       "      <td>NaN</td>\n",
       "      <td>NaN</td>\n",
       "      <td>NaN</td>\n",
       "      <td>NaN</td>\n",
       "      <td>NaN</td>\n",
       "      <td>NaN</td>\n",
       "      <td>NaN</td>\n",
       "      <td>NaN</td>\n",
       "    </tr>\n",
       "    <tr>\n",
       "      <th>ayXxwJJId_c</th>\n",
       "      <td>I Bought The World&amp;#39;s Largest Mystery Box! ...</td>\n",
       "      <td>I cant believe I spent over $500000 on mystery...</td>\n",
       "      <td>2021-04-03 20:00:01+00:00</td>\n",
       "      <td>youtube#video</td>\n",
       "      <td>709</td>\n",
       "      <td>101745632.0</td>\n",
       "      <td>3110824.0</td>\n",
       "      <td>162796.0</td>\n",
       "      <td>https://i.ytimg.com/vi/ayXxwJJId_c/default.jpg</td>\n",
       "      <td>120.0</td>\n",
       "      <td>...</td>\n",
       "      <td>480.0</td>\n",
       "      <td>360.0</td>\n",
       "      <td>PT11M49S</td>\n",
       "      <td>2d</td>\n",
       "      <td>['https://en.wikipedia.org/wiki/Lifestyle_(soc...</td>\n",
       "      <td>NaN</td>\n",
       "      <td>NaN</td>\n",
       "      <td>NaN</td>\n",
       "      <td>NaN</td>\n",
       "      <td>NaN</td>\n",
       "    </tr>\n",
       "    <tr>\n",
       "      <th>cExLQ1o2pDw</th>\n",
       "      <td>First To Rob Bank Wins $100,000</td>\n",
       "      <td>I didnt think he would actually rob the bank.....</td>\n",
       "      <td>2021-09-26 20:00:06+00:00</td>\n",
       "      <td>youtube#video</td>\n",
       "      <td>482</td>\n",
       "      <td>50008942.0</td>\n",
       "      <td>2359606.0</td>\n",
       "      <td>120621.0</td>\n",
       "      <td>https://i.ytimg.com/vi/cExLQ1o2pDw/default.jpg</td>\n",
       "      <td>120.0</td>\n",
       "      <td>...</td>\n",
       "      <td>480.0</td>\n",
       "      <td>360.0</td>\n",
       "      <td>PT8M2S</td>\n",
       "      <td>2d</td>\n",
       "      <td>['https://en.wikipedia.org/wiki/Lifestyle_(soc...</td>\n",
       "      <td>NaN</td>\n",
       "      <td>NaN</td>\n",
       "      <td>NaN</td>\n",
       "      <td>NaN</td>\n",
       "      <td>NaN</td>\n",
       "    </tr>\n",
       "  </tbody>\n",
       "</table>\n",
       "<p>5 rows × 25 columns</p>\n",
       "</div>"
      ],
      "text/plain": [
       "                                                         title  \\\n",
       "id                                                               \n",
       "TQHEJj68Jew               I Got Hunted By A Real Bounty Hunter   \n",
       "00NgUctWoLQ                   Extreme $1,000,000 Hide And Seek   \n",
       "NaN                                                    MrBeast   \n",
       "ayXxwJJId_c  I Bought The World&#39;s Largest Mystery Box! ...   \n",
       "cExLQ1o2pDw                    First To Rob Bank Wins $100,000   \n",
       "\n",
       "                                                   description  \\\n",
       "id                                                               \n",
       "TQHEJj68Jew  Sign up for Current w/ my Creator Code \"BEAST\"...   \n",
       "00NgUctWoLQ  I didn't expect that to happen at the end I wa...   \n",
       "NaN          Accomplishments - Raised $20000000 To Plant 20...   \n",
       "ayXxwJJId_c  I cant believe I spent over $500000 on mystery...   \n",
       "cExLQ1o2pDw  I didnt think he would actually rob the bank.....   \n",
       "\n",
       "                           publishTime     kind_stats  duration_seconds  \\\n",
       "id                                                                        \n",
       "TQHEJj68Jew  2021-04-24 20:00:00+00:00  youtube#video               861   \n",
       "00NgUctWoLQ  2021-12-18 21:00:00+00:00  youtube#video               729   \n",
       "NaN          2012-02-20 00:43:50+00:00            NaN                 0   \n",
       "ayXxwJJId_c  2021-04-03 20:00:01+00:00  youtube#video               709   \n",
       "cExLQ1o2pDw  2021-09-26 20:00:06+00:00  youtube#video               482   \n",
       "\n",
       "               viewCount  likeCount  commentCount  \\\n",
       "id                                                  \n",
       "TQHEJj68Jew   84717282.0  2876493.0      128922.0   \n",
       "00NgUctWoLQ   32090178.0  2125183.0       73593.0   \n",
       "NaN                  NaN        NaN           NaN   \n",
       "ayXxwJJId_c  101745632.0  3110824.0      162796.0   \n",
       "cExLQ1o2pDw   50008942.0  2359606.0      120621.0   \n",
       "\n",
       "                                        thumbnails.default.url  \\\n",
       "id                                                               \n",
       "TQHEJj68Jew     https://i.ytimg.com/vi/TQHEJj68Jew/default.jpg   \n",
       "00NgUctWoLQ     https://i.ytimg.com/vi/00NgUctWoLQ/default.jpg   \n",
       "NaN          https://yt3.ggpht.com/ytc/AKedOLTctGKJ32CdDLiS...   \n",
       "ayXxwJJId_c     https://i.ytimg.com/vi/ayXxwJJId_c/default.jpg   \n",
       "cExLQ1o2pDw     https://i.ytimg.com/vi/cExLQ1o2pDw/default.jpg   \n",
       "\n",
       "             thumbnails.default.width  ...  thumbnails.high.width  \\\n",
       "id                                     ...                          \n",
       "TQHEJj68Jew                     120.0  ...                  480.0   \n",
       "00NgUctWoLQ                     120.0  ...                  480.0   \n",
       "NaN                               NaN  ...                    NaN   \n",
       "ayXxwJJId_c                     120.0  ...                  480.0   \n",
       "cExLQ1o2pDw                     120.0  ...                  480.0   \n",
       "\n",
       "            thumbnails.high.height  contentDetails.duration  \\\n",
       "id                                                            \n",
       "TQHEJj68Jew                  360.0                 PT14M21S   \n",
       "00NgUctWoLQ                  360.0                  PT12M9S   \n",
       "NaN                            NaN                      NaN   \n",
       "ayXxwJJId_c                  360.0                 PT11M49S   \n",
       "cExLQ1o2pDw                  360.0                   PT8M2S   \n",
       "\n",
       "             contentDetails.dimension  \\\n",
       "id                                      \n",
       "TQHEJj68Jew                        2d   \n",
       "00NgUctWoLQ                        2d   \n",
       "NaN                               NaN   \n",
       "ayXxwJJId_c                        2d   \n",
       "cExLQ1o2pDw                        2d   \n",
       "\n",
       "                                  topicDetails.topicCategories  \\\n",
       "id                                                               \n",
       "TQHEJj68Jew  ['https://en.wikipedia.org/wiki/Lifestyle_(soc...   \n",
       "00NgUctWoLQ  ['https://en.wikipedia.org/wiki/Lifestyle_(soc...   \n",
       "NaN                                                        NaN   \n",
       "ayXxwJJId_c  ['https://en.wikipedia.org/wiki/Lifestyle_(soc...   \n",
       "cExLQ1o2pDw  ['https://en.wikipedia.org/wiki/Lifestyle_(soc...   \n",
       "\n",
       "             snippet.defaultLanguage            localizations.en.title  \\\n",
       "id                                                                       \n",
       "TQHEJj68Jew                      NaN                               NaN   \n",
       "00NgUctWoLQ                       en  Extreme $1,000,000 Hide And Seek   \n",
       "NaN                              NaN                               NaN   \n",
       "ayXxwJJId_c                      NaN                               NaN   \n",
       "cExLQ1o2pDw                      NaN                               NaN   \n",
       "\n",
       "                                  localizations.en.description snippet.tags  \\\n",
       "id                                                                            \n",
       "TQHEJj68Jew                                                NaN          NaN   \n",
       "00NgUctWoLQ  I didn't expect that to happen at the end I wa...          NaN   \n",
       "NaN                                                        NaN          NaN   \n",
       "ayXxwJJId_c                                                NaN          NaN   \n",
       "cExLQ1o2pDw                                                NaN          NaN   \n",
       "\n",
       "            contentDetails.contentRating.ytRating  \n",
       "id                                                 \n",
       "TQHEJj68Jew                                   NaN  \n",
       "00NgUctWoLQ                                   NaN  \n",
       "NaN                                           NaN  \n",
       "ayXxwJJId_c                                   NaN  \n",
       "cExLQ1o2pDw                                   NaN  \n",
       "\n",
       "[5 rows x 25 columns]"
      ]
     },
     "execution_count": 13,
     "metadata": {},
     "output_type": "execute_result"
    }
   ],
   "source": [
    "df.head()"
   ]
  },
  {
   "cell_type": "code",
   "execution_count": 14,
   "id": "4bf4f88e",
   "metadata": {
    "execution": {
     "iopub.execute_input": "2023-07-23T22:34:45.245488Z",
     "iopub.status.busy": "2023-07-23T22:34:45.244417Z",
     "iopub.status.idle": "2023-07-23T22:34:45.250994Z",
     "shell.execute_reply": "2023-07-23T22:34:45.249774Z"
    },
    "papermill": {
     "duration": 0.025216,
     "end_time": "2023-07-23T22:34:45.253389",
     "exception": false,
     "start_time": "2023-07-23T22:34:45.228173",
     "status": "completed"
    },
    "tags": []
   },
   "outputs": [
    {
     "data": {
      "text/plain": [
       "(247, 25)"
      ]
     },
     "execution_count": 14,
     "metadata": {},
     "output_type": "execute_result"
    }
   ],
   "source": [
    "df.shape"
   ]
  },
  {
   "cell_type": "code",
   "execution_count": 15,
   "id": "b50a640e",
   "metadata": {
    "execution": {
     "iopub.execute_input": "2023-07-23T22:34:45.285422Z",
     "iopub.status.busy": "2023-07-23T22:34:45.284603Z",
     "iopub.status.idle": "2023-07-23T22:34:45.295300Z",
     "shell.execute_reply": "2023-07-23T22:34:45.293736Z"
    },
    "papermill": {
     "duration": 0.029823,
     "end_time": "2023-07-23T22:34:45.298036",
     "exception": false,
     "start_time": "2023-07-23T22:34:45.268213",
     "status": "completed"
    },
    "tags": []
   },
   "outputs": [
    {
     "data": {
      "text/plain": [
       "id\n",
       "TQHEJj68Jew     True\n",
       "00NgUctWoLQ     True\n",
       "NaN            False\n",
       "ayXxwJJId_c     True\n",
       "cExLQ1o2pDw     True\n",
       "               ...  \n",
       "yeHjsYQ076A    False\n",
       "X7doE4h6W64    False\n",
       "AIytwdufwW8    False\n",
       "56OkH6ocYZU    False\n",
       "zi7tZ-2PhLk    False\n",
       "Name: viewCount, Length: 247, dtype: bool"
      ]
     },
     "execution_count": 15,
     "metadata": {},
     "output_type": "execute_result"
    }
   ],
   "source": [
    "# subsetting Rows\n",
    "df['viewCount'] > 1000000"
   ]
  },
  {
   "cell_type": "code",
   "execution_count": 16,
   "id": "a4ed98e0",
   "metadata": {
    "execution": {
     "iopub.execute_input": "2023-07-23T22:34:45.329757Z",
     "iopub.status.busy": "2023-07-23T22:34:45.328921Z",
     "iopub.status.idle": "2023-07-23T22:34:45.336244Z",
     "shell.execute_reply": "2023-07-23T22:34:45.334995Z"
    },
    "papermill": {
     "duration": 0.026729,
     "end_time": "2023-07-23T22:34:45.339050",
     "exception": false,
     "start_time": "2023-07-23T22:34:45.312321",
     "status": "completed"
    },
    "tags": []
   },
   "outputs": [],
   "source": [
    "#subsetting using loc \n",
    "df_subset1 = df.loc[df['viewCount'] > 1000000]"
   ]
  },
  {
   "cell_type": "code",
   "execution_count": 17,
   "id": "91c7bfed",
   "metadata": {
    "execution": {
     "iopub.execute_input": "2023-07-23T22:34:45.370162Z",
     "iopub.status.busy": "2023-07-23T22:34:45.369195Z",
     "iopub.status.idle": "2023-07-23T22:34:45.382222Z",
     "shell.execute_reply": "2023-07-23T22:34:45.381294Z"
    },
    "papermill": {
     "duration": 0.031222,
     "end_time": "2023-07-23T22:34:45.384650",
     "exception": false,
     "start_time": "2023-07-23T22:34:45.353428",
     "status": "completed"
    },
    "tags": []
   },
   "outputs": [],
   "source": [
    "# subsetting using query\n",
    "df_subset2 = df.query('viewCount > 1000000')"
   ]
  },
  {
   "cell_type": "code",
   "execution_count": 18,
   "id": "6a897a89",
   "metadata": {
    "execution": {
     "iopub.execute_input": "2023-07-23T22:34:45.416465Z",
     "iopub.status.busy": "2023-07-23T22:34:45.415087Z",
     "iopub.status.idle": "2023-07-23T22:34:45.426132Z",
     "shell.execute_reply": "2023-07-23T22:34:45.425104Z"
    },
    "papermill": {
     "duration": 0.029402,
     "end_time": "2023-07-23T22:34:45.428499",
     "exception": false,
     "start_time": "2023-07-23T22:34:45.399097",
     "status": "completed"
    },
    "tags": []
   },
   "outputs": [
    {
     "data": {
      "text/plain": [
       "id\n",
       "TQHEJj68Jew    False\n",
       "00NgUctWoLQ    False\n",
       "NaN             True\n",
       "ayXxwJJId_c    False\n",
       "cExLQ1o2pDw    False\n",
       "               ...  \n",
       "yeHjsYQ076A    False\n",
       "X7doE4h6W64    False\n",
       "AIytwdufwW8    False\n",
       "56OkH6ocYZU    False\n",
       "zi7tZ-2PhLk    False\n",
       "Name: viewCount, Length: 247, dtype: bool"
      ]
     },
     "execution_count": 18,
     "metadata": {},
     "output_type": "execute_result"
    }
   ],
   "source": [
    "#checking for missing values\n",
    "df['viewCount'].isna()"
   ]
  },
  {
   "cell_type": "code",
   "execution_count": 19,
   "id": "c18c172a",
   "metadata": {
    "execution": {
     "iopub.execute_input": "2023-07-23T22:34:45.461436Z",
     "iopub.status.busy": "2023-07-23T22:34:45.460780Z",
     "iopub.status.idle": "2023-07-23T22:34:45.487869Z",
     "shell.execute_reply": "2023-07-23T22:34:45.486378Z"
    },
    "papermill": {
     "duration": 0.047578,
     "end_time": "2023-07-23T22:34:45.491804",
     "exception": false,
     "start_time": "2023-07-23T22:34:45.444226",
     "status": "completed"
    },
    "tags": []
   },
   "outputs": [
    {
     "data": {
      "text/html": [
       "<div>\n",
       "<style scoped>\n",
       "    .dataframe tbody tr th:only-of-type {\n",
       "        vertical-align: middle;\n",
       "    }\n",
       "\n",
       "    .dataframe tbody tr th {\n",
       "        vertical-align: top;\n",
       "    }\n",
       "\n",
       "    .dataframe thead th {\n",
       "        text-align: right;\n",
       "    }\n",
       "</style>\n",
       "<table border=\"1\" class=\"dataframe\">\n",
       "  <thead>\n",
       "    <tr style=\"text-align: right;\">\n",
       "      <th></th>\n",
       "      <th>title</th>\n",
       "      <th>description</th>\n",
       "      <th>publishTime</th>\n",
       "      <th>kind_stats</th>\n",
       "      <th>duration_seconds</th>\n",
       "      <th>viewCount</th>\n",
       "      <th>likeCount</th>\n",
       "      <th>commentCount</th>\n",
       "      <th>thumbnails.default.url</th>\n",
       "      <th>thumbnails.default.width</th>\n",
       "      <th>...</th>\n",
       "      <th>thumbnails.high.width</th>\n",
       "      <th>thumbnails.high.height</th>\n",
       "      <th>contentDetails.duration</th>\n",
       "      <th>contentDetails.dimension</th>\n",
       "      <th>topicDetails.topicCategories</th>\n",
       "      <th>snippet.defaultLanguage</th>\n",
       "      <th>localizations.en.title</th>\n",
       "      <th>localizations.en.description</th>\n",
       "      <th>snippet.tags</th>\n",
       "      <th>contentDetails.contentRating.ytRating</th>\n",
       "    </tr>\n",
       "    <tr>\n",
       "      <th>id</th>\n",
       "      <th></th>\n",
       "      <th></th>\n",
       "      <th></th>\n",
       "      <th></th>\n",
       "      <th></th>\n",
       "      <th></th>\n",
       "      <th></th>\n",
       "      <th></th>\n",
       "      <th></th>\n",
       "      <th></th>\n",
       "      <th></th>\n",
       "      <th></th>\n",
       "      <th></th>\n",
       "      <th></th>\n",
       "      <th></th>\n",
       "      <th></th>\n",
       "      <th></th>\n",
       "      <th></th>\n",
       "      <th></th>\n",
       "      <th></th>\n",
       "      <th></th>\n",
       "    </tr>\n",
       "  </thead>\n",
       "  <tbody>\n",
       "    <tr>\n",
       "      <th>NaN</th>\n",
       "      <td>MrBeast</td>\n",
       "      <td>Accomplishments - Raised $20000000 To Plant 20...</td>\n",
       "      <td>2012-02-20 00:43:50+00:00</td>\n",
       "      <td>NaN</td>\n",
       "      <td>0</td>\n",
       "      <td>NaN</td>\n",
       "      <td>NaN</td>\n",
       "      <td>NaN</td>\n",
       "      <td>https://yt3.ggpht.com/ytc/AKedOLTctGKJ32CdDLiS...</td>\n",
       "      <td>NaN</td>\n",
       "      <td>...</td>\n",
       "      <td>NaN</td>\n",
       "      <td>NaN</td>\n",
       "      <td>NaN</td>\n",
       "      <td>NaN</td>\n",
       "      <td>NaN</td>\n",
       "      <td>NaN</td>\n",
       "      <td>NaN</td>\n",
       "      <td>NaN</td>\n",
       "      <td>NaN</td>\n",
       "      <td>NaN</td>\n",
       "    </tr>\n",
       "  </tbody>\n",
       "</table>\n",
       "<p>1 rows × 25 columns</p>\n",
       "</div>"
      ],
      "text/plain": [
       "       title                                        description  \\\n",
       "id                                                                \n",
       "NaN  MrBeast  Accomplishments - Raised $20000000 To Plant 20...   \n",
       "\n",
       "                   publishTime kind_stats  duration_seconds  viewCount  \\\n",
       "id                                                                       \n",
       "NaN  2012-02-20 00:43:50+00:00        NaN                 0        NaN   \n",
       "\n",
       "     likeCount  commentCount  \\\n",
       "id                             \n",
       "NaN        NaN           NaN   \n",
       "\n",
       "                                thumbnails.default.url  \\\n",
       "id                                                       \n",
       "NaN  https://yt3.ggpht.com/ytc/AKedOLTctGKJ32CdDLiS...   \n",
       "\n",
       "     thumbnails.default.width  ...  thumbnails.high.width  \\\n",
       "id                             ...                          \n",
       "NaN                       NaN  ...                    NaN   \n",
       "\n",
       "    thumbnails.high.height  contentDetails.duration  contentDetails.dimension  \\\n",
       "id                                                                              \n",
       "NaN                    NaN                      NaN                       NaN   \n",
       "\n",
       "    topicDetails.topicCategories  snippet.defaultLanguage  \\\n",
       "id                                                          \n",
       "NaN                          NaN                      NaN   \n",
       "\n",
       "     localizations.en.title localizations.en.description snippet.tags  \\\n",
       "id                                                                      \n",
       "NaN                     NaN                          NaN          NaN   \n",
       "\n",
       "    contentDetails.contentRating.ytRating  \n",
       "id                                         \n",
       "NaN                                   NaN  \n",
       "\n",
       "[1 rows x 25 columns]"
      ]
     },
     "execution_count": 19,
     "metadata": {},
     "output_type": "execute_result"
    }
   ],
   "source": [
    "# To do the opposite of the above\n",
    "df.loc[df['viewCount'].isna()] # This will only keep the null values"
   ]
  },
  {
   "cell_type": "code",
   "execution_count": 20,
   "id": "a4c7b3ae",
   "metadata": {
    "execution": {
     "iopub.execute_input": "2023-07-23T22:34:45.524207Z",
     "iopub.status.busy": "2023-07-23T22:34:45.523500Z",
     "iopub.status.idle": "2023-07-23T22:34:45.530127Z",
     "shell.execute_reply": "2023-07-23T22:34:45.529130Z"
    },
    "papermill": {
     "duration": 0.025207,
     "end_time": "2023-07-23T22:34:45.532382",
     "exception": false,
     "start_time": "2023-07-23T22:34:45.507175",
     "status": "completed"
    },
    "tags": []
   },
   "outputs": [],
   "source": [
    "df = df.loc[~df['viewCount'].isna()] "
   ]
  },
  {
   "cell_type": "code",
   "execution_count": 21,
   "id": "a69f2ac2",
   "metadata": {
    "execution": {
     "iopub.execute_input": "2023-07-23T22:34:45.564896Z",
     "iopub.status.busy": "2023-07-23T22:34:45.564196Z",
     "iopub.status.idle": "2023-07-23T22:34:45.570071Z",
     "shell.execute_reply": "2023-07-23T22:34:45.569097Z"
    },
    "papermill": {
     "duration": 0.02499,
     "end_time": "2023-07-23T22:34:45.572410",
     "exception": false,
     "start_time": "2023-07-23T22:34:45.547420",
     "status": "completed"
    },
    "tags": []
   },
   "outputs": [],
   "source": [
    "df = df.loc[~df['likeCount'].isna()] "
   ]
  },
  {
   "cell_type": "markdown",
   "id": "18d2265f",
   "metadata": {
    "papermill": {
     "duration": 0.014764,
     "end_time": "2023-07-23T22:34:45.602486",
     "exception": false,
     "start_time": "2023-07-23T22:34:45.587722",
     "status": "completed"
    },
    "tags": []
   },
   "source": [
    "Casting dtypes"
   ]
  },
  {
   "cell_type": "code",
   "execution_count": 22,
   "id": "a633661e",
   "metadata": {
    "execution": {
     "iopub.execute_input": "2023-07-23T22:34:45.635626Z",
     "iopub.status.busy": "2023-07-23T22:34:45.634917Z",
     "iopub.status.idle": "2023-07-23T22:34:45.644196Z",
     "shell.execute_reply": "2023-07-23T22:34:45.643236Z"
    },
    "papermill": {
     "duration": 0.028434,
     "end_time": "2023-07-23T22:34:45.646438",
     "exception": false,
     "start_time": "2023-07-23T22:34:45.618004",
     "status": "completed"
    },
    "tags": []
   },
   "outputs": [
    {
     "data": {
      "text/plain": [
       "id\n",
       "TQHEJj68Jew    2876493\n",
       "00NgUctWoLQ    2125183\n",
       "ayXxwJJId_c    3110824\n",
       "cExLQ1o2pDw    2359606\n",
       "GLoeAJUcz38    2762425\n",
       "                ...   \n",
       "yeHjsYQ076A        574\n",
       "X7doE4h6W64        637\n",
       "AIytwdufwW8        508\n",
       "56OkH6ocYZU        430\n",
       "zi7tZ-2PhLk        370\n",
       "Name: likeCount, Length: 244, dtype: int64"
      ]
     },
     "execution_count": 22,
     "metadata": {},
     "output_type": "execute_result"
    }
   ],
   "source": [
    "df['likeCount'].astype('int')"
   ]
  },
  {
   "cell_type": "code",
   "execution_count": 23,
   "id": "a2697ca8",
   "metadata": {
    "execution": {
     "iopub.execute_input": "2023-07-23T22:34:45.681473Z",
     "iopub.status.busy": "2023-07-23T22:34:45.680827Z",
     "iopub.status.idle": "2023-07-23T22:34:45.690298Z",
     "shell.execute_reply": "2023-07-23T22:34:45.689116Z"
    },
    "papermill": {
     "duration": 0.030583,
     "end_time": "2023-07-23T22:34:45.692801",
     "exception": false,
     "start_time": "2023-07-23T22:34:45.662218",
     "status": "completed"
    },
    "tags": []
   },
   "outputs": [
    {
     "data": {
      "text/plain": [
       "id\n",
       "TQHEJj68Jew     84717282\n",
       "00NgUctWoLQ     32090178\n",
       "ayXxwJJId_c    101745632\n",
       "cExLQ1o2pDw     50008942\n",
       "GLoeAJUcz38    145527042\n",
       "                 ...    \n",
       "yeHjsYQ076A        16312\n",
       "X7doE4h6W64        15740\n",
       "AIytwdufwW8        18502\n",
       "56OkH6ocYZU        16627\n",
       "zi7tZ-2PhLk        18773\n",
       "Name: viewCount, Length: 244, dtype: int64"
      ]
     },
     "execution_count": 23,
     "metadata": {},
     "output_type": "execute_result"
    }
   ],
   "source": [
    "df['viewCount'].astype('int')"
   ]
  },
  {
   "cell_type": "code",
   "execution_count": 24,
   "id": "b4091e64",
   "metadata": {
    "execution": {
     "iopub.execute_input": "2023-07-23T22:34:45.727581Z",
     "iopub.status.busy": "2023-07-23T22:34:45.726950Z",
     "iopub.status.idle": "2023-07-23T22:34:45.732886Z",
     "shell.execute_reply": "2023-07-23T22:34:45.732087Z"
    },
    "papermill": {
     "duration": 0.025983,
     "end_time": "2023-07-23T22:34:45.735470",
     "exception": false,
     "start_time": "2023-07-23T22:34:45.709487",
     "status": "completed"
    },
    "tags": []
   },
   "outputs": [],
   "source": [
    "df['publishTime'] = pd.to_datetime(df['publishTime'])"
   ]
  },
  {
   "cell_type": "code",
   "execution_count": 25,
   "id": "b753abad",
   "metadata": {
    "execution": {
     "iopub.execute_input": "2023-07-23T22:34:45.770391Z",
     "iopub.status.busy": "2023-07-23T22:34:45.769801Z",
     "iopub.status.idle": "2023-07-23T22:34:45.775480Z",
     "shell.execute_reply": "2023-07-23T22:34:45.774693Z"
    },
    "papermill": {
     "duration": 0.025554,
     "end_time": "2023-07-23T22:34:45.777703",
     "exception": false,
     "start_time": "2023-07-23T22:34:45.752149",
     "status": "completed"
    },
    "tags": []
   },
   "outputs": [],
   "source": [
    "df['likeCount'] = pd.to_numeric(df['likeCount'].astype('str'))"
   ]
  },
  {
   "cell_type": "markdown",
   "id": "f663ee58",
   "metadata": {
    "papermill": {
     "duration": 0.015477,
     "end_time": "2023-07-23T22:34:45.809150",
     "exception": false,
     "start_time": "2023-07-23T22:34:45.793673",
     "status": "completed"
    },
    "tags": []
   },
   "source": [
    "Creating a new column"
   ]
  },
  {
   "cell_type": "code",
   "execution_count": 26,
   "id": "92cd4000",
   "metadata": {
    "execution": {
     "iopub.execute_input": "2023-07-23T22:34:45.843738Z",
     "iopub.status.busy": "2023-07-23T22:34:45.843037Z",
     "iopub.status.idle": "2023-07-23T22:34:45.848757Z",
     "shell.execute_reply": "2023-07-23T22:34:45.847762Z"
    },
    "papermill": {
     "duration": 0.026748,
     "end_time": "2023-07-23T22:34:45.851929",
     "exception": false,
     "start_time": "2023-07-23T22:34:45.825181",
     "status": "completed"
    },
    "tags": []
   },
   "outputs": [],
   "source": [
    "# Ratio of likeCount to viewCount \n",
    "df['Like_to_view_ratio'] = df['likeCount'] / df['viewCount']"
   ]
  },
  {
   "cell_type": "markdown",
   "id": "7c79534d",
   "metadata": {
    "papermill": {
     "duration": 0.015942,
     "end_time": "2023-07-23T22:34:45.884397",
     "exception": false,
     "start_time": "2023-07-23T22:34:45.868455",
     "status": "completed"
    },
    "tags": []
   },
   "source": [
    "Adding new column"
   ]
  },
  {
   "cell_type": "code",
   "execution_count": 27,
   "id": "d0a12d73",
   "metadata": {
    "execution": {
     "iopub.execute_input": "2023-07-23T22:34:45.919200Z",
     "iopub.status.busy": "2023-07-23T22:34:45.918648Z",
     "iopub.status.idle": "2023-07-23T22:34:45.924650Z",
     "shell.execute_reply": "2023-07-23T22:34:45.923683Z"
    },
    "papermill": {
     "duration": 0.025851,
     "end_time": "2023-07-23T22:34:45.926932",
     "exception": false,
     "start_time": "2023-07-23T22:34:45.901081",
     "status": "completed"
    },
    "tags": []
   },
   "outputs": [],
   "source": [
    "# Best way to this is to concatenate to existing dataFrame\n",
    "df_to_append = df.tail(1)"
   ]
  },
  {
   "cell_type": "code",
   "execution_count": 28,
   "id": "b8195eb0",
   "metadata": {
    "execution": {
     "iopub.execute_input": "2023-07-23T22:34:45.961292Z",
     "iopub.status.busy": "2023-07-23T22:34:45.960863Z",
     "iopub.status.idle": "2023-07-23T22:34:45.971299Z",
     "shell.execute_reply": "2023-07-23T22:34:45.970016Z"
    },
    "papermill": {
     "duration": 0.030755,
     "end_time": "2023-07-23T22:34:45.974027",
     "exception": false,
     "start_time": "2023-07-23T22:34:45.943272",
     "status": "completed"
    },
    "tags": []
   },
   "outputs": [],
   "source": [
    "df_concat = pd.concat([df, df_to_append])"
   ]
  },
  {
   "cell_type": "markdown",
   "id": "04a03699",
   "metadata": {
    "papermill": {
     "duration": 0.016572,
     "end_time": "2023-07-23T22:34:46.007246",
     "exception": false,
     "start_time": "2023-07-23T22:34:45.990674",
     "status": "completed"
    },
    "tags": []
   },
   "source": [
    "Plot examples"
   ]
  },
  {
   "cell_type": "code",
   "execution_count": 29,
   "id": "39f43524",
   "metadata": {
    "execution": {
     "iopub.execute_input": "2023-07-23T22:34:46.045044Z",
     "iopub.status.busy": "2023-07-23T22:34:46.043498Z",
     "iopub.status.idle": "2023-07-23T22:34:46.558572Z",
     "shell.execute_reply": "2023-07-23T22:34:46.557076Z"
    },
    "papermill": {
     "duration": 0.536602,
     "end_time": "2023-07-23T22:34:46.561473",
     "exception": false,
     "start_time": "2023-07-23T22:34:46.024871",
     "status": "completed"
    },
    "tags": []
   },
   "outputs": [
    {
     "data": {
      "text/plain": [
       "<Axes: title={'center': 'Distribution of view count'}, ylabel='Frequency'>"
      ]
     },
     "execution_count": 29,
     "metadata": {},
     "output_type": "execute_result"
    },
    {
     "data": {
      "image/png": "[encoded data removed]",
      "text/plain": [
       "<Figure size 1500x500 with 1 Axes>"
      ]
     },
     "metadata": {},
     "output_type": "display_data"
    }
   ],
   "source": [
    "df['viewCount'].plot(kind = 'hist', \n",
    "                     bins= 50, \n",
    "                     title= 'Distribution of view count', \n",
    "                     figsize = (15, 5))"
   ]
  },
  {
   "cell_type": "code",
   "execution_count": 30,
   "id": "237f6821",
   "metadata": {
    "execution": {
     "iopub.execute_input": "2023-07-23T22:34:46.599211Z",
     "iopub.status.busy": "2023-07-23T22:34:46.598697Z",
     "iopub.status.idle": "2023-07-23T22:34:46.981589Z",
     "shell.execute_reply": "2023-07-23T22:34:46.979984Z"
    },
    "papermill": {
     "duration": 0.404806,
     "end_time": "2023-07-23T22:34:46.984537",
     "exception": false,
     "start_time": "2023-07-23T22:34:46.579731",
     "status": "completed"
    },
    "tags": []
   },
   "outputs": [
    {
     "data": {
      "text/plain": [
       "<Axes: title={'center': 'View vs Like count'}, xlabel='viewCount', ylabel='likeCount'>"
      ]
     },
     "execution_count": 30,
     "metadata": {},
     "output_type": "execute_result"
    },
    {
     "data": {
      "image/png": "[encoded data removed]",
      "text/plain": [
       "<Figure size 640x480 with 1 Axes>"
      ]
     },
     "metadata": {},
     "output_type": "display_data"
    }
   ],
   "source": [
    "df.plot(kind = 'scatter', \n",
    "        x = 'viewCount', \n",
    "        y = 'likeCount', \n",
    "        title = 'View vs Like count')"
   ]
  },
  {
   "cell_type": "markdown",
   "id": "eaee10bb",
   "metadata": {
    "papermill": {
     "duration": 0.018958,
     "end_time": "2023-07-23T22:34:47.021477",
     "exception": false,
     "start_time": "2023-07-23T22:34:47.002519",
     "status": "completed"
    },
    "tags": []
   },
   "source": [
    "Save the output"
   ]
  },
  {
   "cell_type": "code",
   "execution_count": 31,
   "id": "156c1653",
   "metadata": {
    "execution": {
     "iopub.execute_input": "2023-07-23T22:34:47.060088Z",
     "iopub.status.busy": "2023-07-23T22:34:47.059192Z",
     "iopub.status.idle": "2023-07-23T22:34:47.083666Z",
     "shell.execute_reply": "2023-07-23T22:34:47.082382Z"
    },
    "papermill": {
     "duration": 0.047217,
     "end_time": "2023-07-23T22:34:47.086730",
     "exception": false,
     "start_time": "2023-07-23T22:34:47.039513",
     "status": "completed"
    },
    "tags": []
   },
   "outputs": [],
   "source": [
    "df.to_csv('processed_data.csv')"
   ]
  }
 ],
 "metadata": {
  "kernelspec": {
   "display_name": "Python 3",
   "language": "python",
   "name": "python3"
  },
  "language_info": {
   "codemirror_mode": {
    "name": "ipython",
    "version": 3
   },
   "file_extension": ".py",
   "mimetype": "text/x-python",
   "name": "python",
   "nbconvert_exporter": "python",
   "pygments_lexer": "ipython3",
   "version": "3.10.12"
  },
  "papermill": {
   "default_parameters": {},
   "duration": 18.023589,
   "end_time": "2023-07-23T22:34:49.416932",
   "environment_variables": {},
   "exception": null,
   "input_path": "__notebook__.ipynb",
   "output_path": "__notebook__.ipynb",
   "parameters": {},
   "start_time": "2023-07-23T22:34:31.393343",
   "version": "2.4.0"
  }
 },
 "nbformat": 4,
 "nbformat_minor": 5
}
